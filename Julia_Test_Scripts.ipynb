{
 "cells": [
  {
   "cell_type": "markdown",
   "metadata": {},
   "source": [
    "# 0. getting started"
   ]
  },
  {
   "cell_type": "markdown",
   "metadata": {},
   "source": [
    "The interface code is defined in a module, which must be included.\n",
    "The global variable `phcloc` defines the location of the main executable phc.\n",
    "The example below assumes phc is in the path of the user."
   ]
  },
  {
   "cell_type": "code",
   "execution_count": 1,
   "metadata": {},
   "outputs": [
    {
     "data": {
      "text/plain": [
       "Main.juliaPHC"
      ]
     },
     "execution_count": 1,
     "metadata": {},
     "output_type": "execute_result"
    }
   ],
   "source": [
    "global phcloc = Cmd(`phc`) # assuming phc is in the path ...\n",
    "include(\"JuliaPHC.jl\")"
   ]
  },
  {
   "cell_type": "markdown",
   "metadata": {},
   "source": [
    "# 1. running a test"
   ]
  },
  {
   "cell_type": "markdown",
   "metadata": {},
   "source": [
    "The basic test prepares the input for the blackbox solver and returns the solutions of the solver."
   ]
  },
  {
   "cell_type": "code",
   "execution_count": 2,
   "metadata": {},
   "outputs": [
    {
     "name": "stdout",
     "output_type": "stream",
     "text": [
      "A test polynomial system :\n",
      "x^3 + 2*x*y - 1;\n",
      "x + y - 1;\n",
      "2 polynomials read from file example.txt :\n",
      "x^3 + 2*x*y - 1;\n",
      "x + y - 1;\n",
      "Writing the system to /tmp/in7248409409206613547 ...\n",
      "Writing output to /tmp/out7248409409206613547 ...\n",
      "Extracting solutions from /tmp/sol7248409409206613547 ...\n",
      "The solutions :\n",
      "[[time = 1.0 + 0*I,\n",
      "  multiplicity = 1,\n",
      "  x = 5.0E-1 + 8.66025403784439E-1*I,\n",
      "  y = 5.0E-1 - 8.66025403784439E-1*I,\n",
      "  err =  0.000E+00,  rco =  2.275E-01,  res =  0.000E+00],\n",
      " [time = 1.0 + 0*I,\n",
      "  multiplicity = 1,\n",
      "  x = 1.0 + 1.60861174670876E-86*I,\n",
      "  y = -1.94681382642597E-16 - 2.41291762006314E-86*I,\n",
      "  err =  2.961E-16,  rco =  7.346E-02,  res =  3.331E-16],\n",
      " [time = 1.0 + 0*I,\n",
      "  multiplicity = 1,\n",
      "  x = 5.0E-1 - 8.66025403784439E-1*I,\n",
      "  y = 5.0E-1 + 8.66025403784439E-1*I,\n",
      "  err =  4.983E-16,  rco =  2.275E-01,  res =  2.220E-16]];\n",
      "Extracting start system and solutions from /tmp/out7248409409206613547 ...\n",
      "Reading start system from /tmp/start7248409409206613547 ...\n",
      "2 polynomials in the given system\n",
      "[\"x^3+( 8.91484366327337E-01 + 4.53051459101443E-01*i);\", \"y+(-2.69116108251020E-01 - 9.63107740743384E-01*i);\"]\n",
      "Extracting start solutions from /tmp/start7248409409206613547 ...\n",
      "The start solutions :\n",
      "[[time = 0 + 0*I,\n",
      "  multiplicity = 1,\n",
      "  x = 3.58695809384644E-1 + 9.33454506834637E-1*I,\n",
      "  y = 2.6911610825102E-1 + 9.63107740743384E-1*I,\n",
      "  err =  0.000E+00,  rco =  1.000E+00,  res =  0.000E+00],\n",
      " [time = 0 + 0*I,\n",
      "  multiplicity = 1,\n",
      "  x = -9.87743220888192E-1 - 1.56087570259196E-1*I,\n",
      "  y = 2.6911610825102E-1 + 9.63107740743384E-1*I,\n",
      "  err =  0.000E+00,  rco =  1.000E+00,  res =  0.000E+00],\n",
      " [time = 0 + 0*I,\n",
      "  multiplicity = 1,\n",
      "  x = 6.29047411503548E-1 - 7.77366936575441E-1*I,\n",
      "  y = 2.6911610825102E-1 + 9.63107740743384E-1*I,\n",
      "  err =  0.000E+00,  rco =  1.000E+00,  res =  0.000E+00]];\n",
      "The start system :\n",
      "x^3+( 8.91484366327337E-01 + 4.53051459101443E-01*i);\n",
      "y+(-2.69116108251020E-01 - 9.63107740743384E-01*i);\n",
      "The start solutions :\n",
      "Start solution 1 :\n",
      "Dict{Any,Any}(\"err\" => 0.0,\"time\" => 0.0 + 0.0im,\"rco\" => 1.0,\"multiplicity\" => 1.0,\"x\" => 0.358695809384644 + 0.933454506834637im,\"res\" => 0.0,\"y\" => 0.26911610825102 + 0.963107740743384im)\n",
      "Start solution 2 :\n",
      "Dict{Any,Any}(\"err\" => 0.0,\"time\" => 0.0 + 0.0im,\"rco\" => 1.0,\"multiplicity\" => 1.0,\"x\" => -0.987743220888192 - 0.156087570259196im,\"res\" => 0.0,\"y\" => 0.26911610825102 + 0.963107740743384im)\n",
      "Start solution 3 :\n",
      "Dict{Any,Any}(\"err\" => 0.0,\"time\" => 0.0 + 0.0im,\"rco\" => 1.0,\"multiplicity\" => 1.0,\"x\" => 0.629047411503548 - 0.777366936575441im,\"y\" => 0.26911610825102 + 0.963107740743384im)\n",
      "The solutions :\n",
      "Solution 1 :\n",
      "Dict{Any,Any}(\"err\" => 0.0,\"time\" => 1.0 + 0.0im,\"rco\" => 0.2275,\"multiplicity\" => 1.0,\"x\" => 0.5 + 0.866025403784439im,\"res\" => 0.0,\"y\" => 0.5 - 0.866025403784439im)\n",
      "Solution 2 :\n",
      "Dict{Any,Any}(\"err\" => 2.961e-16,\"time\" => 1.0 + 0.0im,\"rco\" => 0.07346,\"multiplicity\" => 1.0,\"x\" => 1.0 + 1.60861174670876e-86im,\"res\" => 3.331e-16,\"y\" => -1.94681382642597e-16 - 2.41291762006314e-86im)\n",
      "Solution 3 :\n",
      "Dict{Any,Any}(\"err\" => 4.983e-16,\"time\" => 1.0 + 0.0im,\"rco\" => 0.2275,\"multiplicity\" => 1.0,\"x\" => 0.5 - 0.866025403784439im,\"y\" => 0.5 + 0.866025403784439im)\n"
     ]
    }
   ],
   "source": [
    "juliaPHC.test()"
   ]
  },
  {
   "cell_type": "markdown",
   "metadata": {},
   "source": [
    "# 2. writing and reading systems"
   ]
  },
  {
   "cell_type": "markdown",
   "metadata": {},
   "source": [
    "A polynomial system is represented as a list of strings.\n",
    "After displaying the documentation, the writing and reading of polynomials are demonstrated with a small example."
   ]
  },
  {
   "cell_type": "code",
   "execution_count": 3,
   "metadata": {},
   "outputs": [
    {
     "data": {
      "text/latex": [
       "\\begin{verbatim}\n",
       "write_system(filename::String, polynomials::Array{String,1})\n",
       "\\end{verbatim}\n",
       "Writes a polynomial system to file.\n",
       "\n",
       "Input: filename is the name of the file to write the polynomials to.        The array polynomials is the string representation of a system.\n",
       "\n",
       "Example:\n",
       "\n",
       "\\begin{verbatim}\n",
       " pols = [\"x^3 + 2*x*y - 1;\", \"x + y - 1;\"];\n",
       " write_system(\"example.txt\", pols)\n",
       "\\end{verbatim}\n"
      ],
      "text/markdown": [
       "```\n",
       "write_system(filename::String, polynomials::Array{String,1})\n",
       "```\n",
       "\n",
       "Writes a polynomial system to file.\n",
       "\n",
       "Input: filename is the name of the file to write the polynomials to.        The array polynomials is the string representation of a system.\n",
       "\n",
       "Example:\n",
       "\n",
       "```\n",
       " pols = [\"x^3 + 2*x*y - 1;\", \"x + y - 1;\"];\n",
       " write_system(\"example.txt\", pols)\n",
       "```\n"
      ],
      "text/plain": [
       "\u001b[36m  write_system(filename::String, polynomials::Array{String,1})\u001b[39m\n",
       "\n",
       "  Writes a polynomial system to file.\n",
       "\n",
       "  Input: filename is the name of the file to write the polynomials to. The\n",
       "  array polynomials is the string representation of a system.\n",
       "\n",
       "  Example:\n",
       "\n",
       "\u001b[36m   pols = [\"x^3 + 2*x*y - 1;\", \"x + y - 1;\"];\u001b[39m\n",
       "\u001b[36m   write_system(\"example.txt\", pols)\u001b[39m"
      ]
     },
     "execution_count": 3,
     "metadata": {},
     "output_type": "execute_result"
    }
   ],
   "source": [
    "?juliaPHC.write_system"
   ]
  },
  {
   "cell_type": "code",
   "execution_count": 4,
   "metadata": {},
   "outputs": [],
   "source": [
    "pols = [\"x^3 + 2*x*y - 1;\", \"x + y - 1;\"];\n",
    "juliaPHC.write_system(\"/tmp/example.txt\", pols)"
   ]
  },
  {
   "cell_type": "code",
   "execution_count": 5,
   "metadata": {},
   "outputs": [
    {
     "data": {
      "text/latex": [
       "\\begin{verbatim}\n",
       "read_system(filename::String, verbose::Bool=false)\n",
       "\\end{verbatim}\n",
       "Input: The name of a file with polynomials in PHCpack format.\n",
       "\n",
       "Output: The number of polynomials and a string array of polynomials.\n",
       "\n",
       "Example:\n",
       "\n",
       "\\begin{verbatim}\n",
       "# See the documentation for write_system,\n",
       "# to make the file example.txt.\n",
       "dim, pols = read_system(\"example.txt\")\n",
       "\\end{verbatim}\n"
      ],
      "text/markdown": [
       "```\n",
       "read_system(filename::String, verbose::Bool=false)\n",
       "```\n",
       "\n",
       "Input: The name of a file with polynomials in PHCpack format.\n",
       "\n",
       "Output: The number of polynomials and a string array of polynomials.\n",
       "\n",
       "Example:\n",
       "\n",
       "```\n",
       "# See the documentation for write_system,\n",
       "# to make the file example.txt.\n",
       "dim, pols = read_system(\"example.txt\")\n",
       "```\n"
      ],
      "text/plain": [
       "\u001b[36m  read_system(filename::String, verbose::Bool=false)\u001b[39m\n",
       "\n",
       "  Input: The name of a file with polynomials in PHCpack format.\n",
       "\n",
       "  Output: The number of polynomials and a string array of polynomials.\n",
       "\n",
       "  Example:\n",
       "\n",
       "\u001b[36m  # See the documentation for write_system,\u001b[39m\n",
       "\u001b[36m  # to make the file example.txt.\u001b[39m\n",
       "\u001b[36m  dim, pols = read_system(\"example.txt\")\u001b[39m"
      ]
     },
     "execution_count": 5,
     "metadata": {},
     "output_type": "execute_result"
    }
   ],
   "source": [
    "?juliaPHC.read_system"
   ]
  },
  {
   "cell_type": "code",
   "execution_count": 6,
   "metadata": {},
   "outputs": [
    {
     "data": {
      "text/plain": [
       "(2, [\"x^3 + 2*x*y - 1;\", \"x + y - 1;\"])"
      ]
     },
     "execution_count": 6,
     "metadata": {},
     "output_type": "execute_result"
    }
   ],
   "source": [
    "exdim, expols = juliaPHC.read_system(\"/tmp/example.txt\")"
   ]
  },
  {
   "cell_type": "markdown",
   "metadata": {},
   "source": [
    "# 3. calling the blackbox solver"
   ]
  },
  {
   "cell_type": "markdown",
   "metadata": {},
   "source": [
    "The function ``solve_system`` is a simple wrapper to the ``phc -b`` command.\n",
    "Its execution is demonstrated on the example ``expols`` from above."
   ]
  },
  {
   "cell_type": "code",
   "execution_count": 7,
   "metadata": {},
   "outputs": [
    {
     "data": {
      "text/latex": [
       "\\begin{verbatim}\n",
       "solve_system(pols::Array{String,1},\n",
       "             phcbin::String=\"phc\",\n",
       "             tmpdir::String=\"/tmp\",\n",
       "             verbose::Bool=true)\n",
       "\\end{verbatim}\n",
       "Takes on input a list of string representations of polynomials and returns the solutions computed by the blackbox solver, as first argument on return.  Additionally, the polynomials in the start system and the start solutions are returned, respectively as the second and the third argument in the return tuple.\n",
       "\n",
       "The other input arguments are\n",
       "\n",
       "\\begin{verbatim}\n",
       "phcbin is the location of the binary phc\n",
       "\n",
       "tmpdir is the folder for temporary files\n",
       "\n",
       "verbose is the verbose flag\n",
       "\\end{verbatim}\n"
      ],
      "text/markdown": [
       "```\n",
       "solve_system(pols::Array{String,1},\n",
       "             phcbin::String=\"phc\",\n",
       "             tmpdir::String=\"/tmp\",\n",
       "             verbose::Bool=true)\n",
       "```\n",
       "\n",
       "Takes on input a list of string representations of polynomials and returns the solutions computed by the blackbox solver, as first argument on return.  Additionally, the polynomials in the start system and the start solutions are returned, respectively as the second and the third argument in the return tuple.\n",
       "\n",
       "The other input arguments are\n",
       "\n",
       "```\n",
       "phcbin is the location of the binary phc\n",
       "\n",
       "tmpdir is the folder for temporary files\n",
       "\n",
       "verbose is the verbose flag\n",
       "```\n"
      ],
      "text/plain": [
       "\u001b[36m  solve_system(pols::Array{String,1},\u001b[39m\n",
       "\u001b[36m               phcbin::String=\"phc\",\u001b[39m\n",
       "\u001b[36m               tmpdir::String=\"/tmp\",\u001b[39m\n",
       "\u001b[36m               verbose::Bool=true)\u001b[39m\n",
       "\n",
       "  Takes on input a list of string representations of polynomials and returns\n",
       "  the solutions computed by the blackbox solver, as first argument on return.\n",
       "  Additionally, the polynomials in the start system and the start solutions\n",
       "  are returned, respectively as the second and the third argument in the\n",
       "  return tuple.\n",
       "\n",
       "  The other input arguments are\n",
       "\n",
       "\u001b[36m  phcbin is the location of the binary phc\u001b[39m\n",
       "\u001b[36m  \u001b[39m\n",
       "\u001b[36m  tmpdir is the folder for temporary files\u001b[39m\n",
       "\u001b[36m  \u001b[39m\n",
       "\u001b[36m  verbose is the verbose flag\u001b[39m"
      ]
     },
     "execution_count": 7,
     "metadata": {},
     "output_type": "execute_result"
    }
   ],
   "source": [
    "?juliaPHC.solve_system"
   ]
  },
  {
   "cell_type": "code",
   "execution_count": 8,
   "metadata": {},
   "outputs": [
    {
     "name": "stdout",
     "output_type": "stream",
     "text": [
      "Writing the system to /tmp/in5421844785556085283 ...\n",
      "Writing output to /tmp/out5421844785556085283 ...\n",
      "Extracting solutions from /tmp/sol5421844785556085283 ...\n",
      "The solutions :\n",
      "[[time = 1.0 + 0*I,\n",
      "  multiplicity = 1,\n",
      "  x = 1.0 - 2.05902303578721E-84*I,\n",
      "  y = -2.56597212024531E-16 + 2.05902303578721E-84*I,\n",
      "  err =  2.961E-16,  rco =  7.346E-02,  res =  3.331E-16],\n",
      " [time = 1.0 + 0*I,\n",
      "  multiplicity = 1,\n",
      "  x = 5.0E-1 + 8.66025403784439E-1*I,\n",
      "  y = 5.0E-1 - 8.66025403784439E-1*I,\n",
      "  err =  0.000E+00,  rco =  2.275E-01,  res =  0.000E+00],\n",
      " [time = 1.0 + 0*I,\n",
      "  multiplicity = 1,\n",
      "  x = 5.0E-1 - 8.66025403784439E-1*I,\n",
      "  y = 5.0E-1 + 8.66025403784439E-1*I,\n",
      "  err =  3.531E-16,  rco =  2.275E-01,  res =  1.110E-16]];\n",
      "Extracting start system and solutions from /tmp/out5421844785556085283 ...\n",
      "Reading start system from /tmp/start5421844785556085283 ...\n",
      "2 polynomials in the given system\n",
      "[\"x^3+(-2.40641174272135E-01 + 9.70614148487919E-01*i);\", \"y+( 4.56424110203624E-01 - 8.89762345587197E-01*i);\"]\n",
      "Extracting start solutions from /tmp/start5421844785556085283 ...\n",
      "The start solutions :\n",
      "[[time = 0 + 0*I,\n",
      "  multiplicity = 1,\n",
      "  x = -8.09202211014413E-2 + 9.96720581615978E-1*I,\n",
      "  y = -4.56424110203624E-1 + 8.89762345587197E-1*I,\n",
      "  err =  0.000E+00,  rco =  1.000E+00,  res =  0.000E+00],\n",
      " [time = 0 + 0*I,\n",
      "  multiplicity = 1,\n",
      "  x = -8.22725233603518E-1 - 5.68439257961691E-1*I,\n",
      "  y = -4.56424110203624E-1 + 8.89762345587197E-1*I,\n",
      "  err =  0.000E+00,  rco =  1.000E+00,  res =  0.000E+00],\n",
      " [time = 0 + 0*I,\n",
      "  multiplicity = 1,\n",
      "  x = 9.03645454704959E-1 - 4.28281323654287E-1*I,\n",
      "  y = -4.56424110203624E-1 + 8.89762345587197E-1*I,\n",
      "  err =  0.000E+00,  rco =  1.000E+00,  res =  0.000E+00]];\n"
     ]
    },
    {
     "data": {
      "text/plain": [
       "(Any[Dict{Any,Any}(\"err\" => 2.961e-16,\"time\" => 1.0 + 0.0im,\"rco\" => 0.07346,\"multiplicity\" => 1.0,\"x\" => 1.0 - 2.05902303578721e-84im,\"res\" => 3.331e-16,\"y\" => -2.56597212024531e-16 + 2.05902303578721e-84im), Dict{Any,Any}(\"err\" => 0.0,\"time\" => 1.0 + 0.0im,\"rco\" => 0.2275,\"multiplicity\" => 1.0,\"x\" => 0.5 + 0.866025403784439im,\"res\" => 0.0,\"y\" => 0.5 - 0.866025403784439im), Dict{Any,Any}(\"err\" => 3.531e-16,\"time\" => 1.0 + 0.0im,\"rco\" => 0.2275,\"multiplicity\" => 1.0,\"x\" => 0.5 - 0.866025403784439im,\"y\" => 0.5 + 0.866025403784439im)], [\"x^3+(-2.40641174272135E-01 + 9.70614148487919E-01*i);\", \"y+( 4.56424110203624E-01 - 8.89762345587197E-01*i);\"], Any[Dict{Any,Any}(\"err\" => 0.0,\"time\" => 0.0 + 0.0im,\"rco\" => 1.0,\"multiplicity\" => 1.0,\"x\" => -0.0809202211014413 + 0.996720581615978im,\"res\" => 0.0,\"y\" => -0.456424110203624 + 0.889762345587197im), Dict{Any,Any}(\"err\" => 0.0,\"time\" => 0.0 + 0.0im,\"rco\" => 1.0,\"multiplicity\" => 1.0,\"x\" => -0.822725233603518 - 0.568439257961691im,\"res\" => 0.0,\"y\" => -0.456424110203624 + 0.889762345587197im), Dict{Any,Any}(\"err\" => 0.0,\"time\" => 0.0 + 0.0im,\"rco\" => 1.0,\"multiplicity\" => 1.0,\"x\" => 0.903645454704959 - 0.428281323654287im,\"y\" => -0.456424110203624 + 0.889762345587197im)])"
      ]
     },
     "execution_count": 8,
     "metadata": {},
     "output_type": "execute_result"
    }
   ],
   "source": [
    "sols, startsys, startsols = juliaPHC.solve_system(expols)"
   ]
  },
  {
   "cell_type": "markdown",
   "metadata": {},
   "source": [
    "# 4. the solutions"
   ]
  },
  {
   "cell_type": "markdown",
   "metadata": {},
   "source": [
    "The ``sols`` returned by the black box solver is a list of dictionaries."
   ]
  },
  {
   "cell_type": "code",
   "execution_count": 9,
   "metadata": {},
   "outputs": [
    {
     "data": {
      "text/plain": [
       "3"
      ]
     },
     "execution_count": 9,
     "metadata": {},
     "output_type": "execute_result"
    }
   ],
   "source": [
    "length(sols)"
   ]
  },
  {
   "cell_type": "markdown",
   "metadata": {},
   "source": [
    "The blackbox solver return ``length(sols)`` solutions.  Let us look at the first solution."
   ]
  },
  {
   "cell_type": "code",
   "execution_count": 10,
   "metadata": {},
   "outputs": [
    {
     "data": {
      "text/plain": [
       "Dict{Any,Any} with 7 entries:\n",
       "  \"err\"          => 2.961e-16\n",
       "  \"time\"         => 1.0+0.0im\n",
       "  \"rco\"          => 0.07346\n",
       "  \"multiplicity\" => 1.0\n",
       "  \"x\"            => 1.0-2.05902e-84im\n",
       "  \"res\"          => 3.331e-16\n",
       "  \"y\"            => -2.56597e-16+2.05902e-84im"
      ]
     },
     "execution_count": 10,
     "metadata": {},
     "output_type": "execute_result"
    }
   ],
   "source": [
    "sols[1]"
   ]
  },
  {
   "cell_type": "markdown",
   "metadata": {},
   "source": [
    "We can ask for the value for each coordinate of the solution point."
   ]
  },
  {
   "cell_type": "code",
   "execution_count": 11,
   "metadata": {},
   "outputs": [
    {
     "data": {
      "text/plain": [
       "1.0 - 2.05902303578721e-84im"
      ]
     },
     "execution_count": 11,
     "metadata": {},
     "output_type": "execute_result"
    }
   ],
   "source": [
    "sols[1][\"x\"]"
   ]
  },
  {
   "cell_type": "markdown",
   "metadata": {},
   "source": [
    "The ``time`` field is the end value of the continuation parameter and the ``multiplicity`` equals the multiplicity of the solution.  The backward error is in ``res`` (the residual), the estimated forward error in ``err`` and ``rco`` is an estimate for the inverse of the condition number."
   ]
  },
  {
   "cell_type": "markdown",
   "metadata": {},
   "source": [
    "# 5. on the tableau format"
   ]
  },
  {
   "cell_type": "markdown",
   "metadata": {},
   "source": [
    "The tableau format of a polynomial is a 2-tuple of exponent arrays and coefficients, one coefficient and one exponent array for each monomial."
   ]
  },
  {
   "cell_type": "code",
   "execution_count": 12,
   "metadata": {},
   "outputs": [
    {
     "ename": "LoadError",
     "evalue": "UndefVarError: read_system not defined",
     "output_type": "error",
     "traceback": [
      "UndefVarError: read_system not defined",
      "",
      "Stacktrace:",
      " [1] top-level scope at In[12]:5",
      " [2] include_string(::Function, ::Module, ::String, ::String) at ./loading.jl:1091"
     ]
    }
   ],
   "source": [
    "\"\"\"\n",
    "Example 1, using read_system\n",
    "\"\"\"\n",
    "\n",
    "read_system(\"sample.txt\")"
   ]
  },
  {
   "cell_type": "code",
   "execution_count": 13,
   "metadata": {},
   "outputs": [
    {
     "ename": "LoadError",
     "evalue": "UndefVarError: make_system not defined",
     "output_type": "error",
     "traceback": [
      "UndefVarError: make_system not defined",
      "",
      "Stacktrace:",
      " [1] top-level scope at In[13]:24",
      " [2] include_string(::Function, ::Module, ::String, ::String) at ./loading.jl:1091"
     ]
    }
   ],
   "source": [
    "\"\"\"\n",
    "Example 2, using write_system/make_system\n",
    "\"\"\"\n",
    "filename = \"/Users/kv/Desktop/temp/in7769383274871036357\"\n",
    "    A = [1 0 0 0; 0 1 0 0;0 0 0 0;0 0 0 0;1 0 1 0;0 1 0 1;0 0 0 0;\n",
    "              0 0 0 0;1 0 2 0;0 1 0 2; 0 0 0 0;0 0 0 0;1 0 3 0;0 1 0 3;0 0 0 0;0 0 0 0]\n",
    "\n",
    "    coeff = [             1;\n",
    "                1;\n",
    "              9.98250904334731E-01;  \n",
    "             0 ;                                              \n",
    "              1;                                               \n",
    "              1 ;                                              \n",
    "              8.92749639148806E-01;  \n",
    "              0;                                               \n",
    "              1;                                               \n",
    "              1;                                               \n",
    "              1.60088552022675E-01;   \n",
    "              0;                                               \n",
    "              1;                                               \n",
    "              1;                                               \n",
    "              7.25369971319578E-01;  \n",
    "             0]    \n",
    "T = make_system(coeff,A)\n",
    "print(T)\n",
    "filename = \"/Users/kv/Desktop/temp/sinha\"\n",
    "write_system(filename,T)"
   ]
  },
  {
   "cell_type": "code",
   "execution_count": 14,
   "metadata": {},
   "outputs": [
    {
     "ename": "LoadError",
     "evalue": "ArgumentError: argument count does not match specified shape (expected 36, got 20)",
     "output_type": "error",
     "traceback": [
      "ArgumentError: argument count does not match specified shape (expected 36, got 20)",
      "",
      "Stacktrace:",
      " [1] hvcat(::NTuple{6,Int64}, ::Int64, ::Vararg{Int64,N} where N) at ./abstractarray.jl:1777",
      " [2] top-level scope at In[14]:1",
      " [3] include_string(::Function, ::Module, ::String, ::String) at ./loading.jl:1091"
     ]
    }
   ],
   "source": [
    "\"\"\"\n",
    "Example 3, using write_system/make_system\n",
    "\"\"\"\n",
    "A = [1 0 0 0 0 0;0 1 0 0 0 0;0 0;1 0;0 1;0 0]\n",
    "coeff = [1;1;0;1;-1;0]\n",
    "T = make_system(coeff,A)"
   ]
  },
  {
   "cell_type": "code",
   "execution_count": 15,
   "metadata": {},
   "outputs": [
    {
     "ename": "LoadError",
     "evalue": "UndefVarError: extract_sols not defined",
     "output_type": "error",
     "traceback": [
      "UndefVarError: extract_sols not defined",
      "",
      "Stacktrace:",
      " [1] top-level scope at In[15]:18",
      " [2] include_string(::Function, ::Module, ::String, ::String) at ./loading.jl:1091"
     ]
    }
   ],
   "source": [
    "\"\"\"\n",
    "Example 4, using extract_sols\n",
    "\"\"\"\n",
    "char_sols = \"[time = 1.0 + 0*I,\n",
    "  multiplicity = 1,\n",
    "  x1 = 1.03639570141331 + 6.19038489119192E-3*I,\n",
    "  x2 = -3.81447970785749E-2 - 6.53100262542169E-2*I,\n",
    "  x3 = 7.26646740724671E-1 - 5.51989879497413E-1*I,\n",
    "  x4 = -2.24458038436995 + 7.75072227352325E-1*I,\n",
    "  err =  4.808E-16,  rco =  8.492E-03,  res =  5.837E-16],\n",
    " [time = 1.0 + 0*I,\n",
    "  multiplicity = 1,\n",
    "  x1 = -3.81447970785749E-2 - 6.53100262542169E-2*I,\n",
    "  x2 = 1.03639570141331 + 6.19038489119191E-3*I,\n",
    "  x3 = -2.24458038436995 + 7.75072227352325E-1*I,\n",
    "  x4 = 7.26646740724671E-1 - 5.51989879497413E-1*I,\n",
    "  err =  3.705E-16,  rco =  9.643E-03,  res =  6.800E-16]\";\n",
    "extract_sols(char_sols)"
   ]
  }
 ],
 "metadata": {
  "kernelspec": {
   "display_name": "Julia 1.5.3",
   "language": "julia",
   "name": "julia-1.5"
  },
  "language_info": {
   "file_extension": ".jl",
   "mimetype": "application/julia",
   "name": "julia",
   "version": "1.5.3"
  },
  "latex_envs": {
   "LaTeX_envs_menu_present": true,
   "autocomplete": true,
   "bibliofile": "biblio.bib",
   "cite_by": "apalike",
   "current_citInitial": 1,
   "eqLabelWithNumbers": true,
   "eqNumInitial": 1,
   "hotkeys": {
    "equation": "Ctrl-E",
    "itemize": "Ctrl-I"
   },
   "labels_anchors": false,
   "latex_user_defs": false,
   "report_style_numbering": false,
   "user_envs_cfg": false
  }
 },
 "nbformat": 4,
 "nbformat_minor": 2
}
