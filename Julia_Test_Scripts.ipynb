{
 "cells": [
  {
   "cell_type": "code",
   "execution_count": 1,
   "metadata": {},
   "outputs": [
    {
     "data": {
      "text/plain": [
       "`\u001b[4m/Users/kv/Desktop/phc\u001b[24m`"
      ]
     },
     "execution_count": 1,
     "metadata": {},
     "output_type": "execute_result"
    }
   ],
   "source": [
    "global phcloc = Cmd(`/Users/kv/Desktop/phc`) # executable\n",
    "using JuliaPHC"
   ]
  },
  {
   "cell_type": "code",
   "execution_count": 4,
   "metadata": {},
   "outputs": [
    {
     "name": "stdout",
     "output_type": "stream",
     "text": [
      "Invalid variable type for optional argument\n",
      "The number of colons does not match equations\n",
      "2 polynomials in the given system\n",
      "[\"x**2\", \"x-y\"]\n"
     ]
    },
    {
     "data": {
      "text/plain": [
       "(2, [\"x**2\", \"x-y\"])"
      ]
     },
     "execution_count": 4,
     "metadata": {},
     "output_type": "execute_result"
    }
   ],
   "source": [
    "\"\"\"\n",
    "Example 1, using read_system\n",
    "\"\"\"\n",
    "\n",
    "read_system(\"sample.txt\")"
   ]
  },
  {
   "cell_type": "code",
   "execution_count": 19,
   "metadata": {},
   "outputs": [
    {
     "name": "stdout",
     "output_type": "stream",
     "text": [
      "16[\"+x1+x2+0.998250904334\", \"+x1x3+x2x4+0.892749639148\", \"+x1x3**2+x2x4**2+0.160088552022\", \"+x1x3**3+x2x4**3+0.725369971319\"]"
     ]
    }
   ],
   "source": [
    "\"\"\"\n",
    "Example 2, using write_system/make_system\n",
    "\"\"\"\n",
    "filename = \"/Users/kv/Desktop/temp/in7769383274871036357\"\n",
    "    A = [1 0 0 0; 0 1 0 0;0 0 0 0;0 0 0 0;1 0 1 0;0 1 0 1;0 0 0 0;\n",
    "              0 0 0 0;1 0 2 0;0 1 0 2; 0 0 0 0;0 0 0 0;1 0 3 0;0 1 0 3;0 0 0 0;0 0 0 0]\n",
    "\n",
    "    coeff = [             1;\n",
    "                1;\n",
    "              9.98250904334731E-01;  \n",
    "             0 ;                                              \n",
    "              1;                                               \n",
    "              1 ;                                              \n",
    "              8.92749639148806E-01;  \n",
    "              0;                                               \n",
    "              1;                                               \n",
    "              1;                                               \n",
    "              1.60088552022675E-01;   \n",
    "              0;                                               \n",
    "              1;                                               \n",
    "              1;                                               \n",
    "              7.25369971319578E-01;  \n",
    "             0]    \n",
    "T = make_system(coeff,A)\n",
    "print(T)\n",
    "filename = \"/Users/kv/Desktop/temp/sinha\"\n",
    "write_system(filename,T)"
   ]
  },
  {
   "cell_type": "code",
   "execution_count": 20,
   "metadata": {},
   "outputs": [
    {
     "ename": "LoadError",
     "evalue": "ArgumentError: argument count does not match specified shape (expected 36, got 20)",
     "output_type": "error",
     "traceback": [
      "ArgumentError: argument count does not match specified shape (expected 36, got 20)",
      "",
      "Stacktrace:",
      " [1] hvcat(::NTuple{6,Int64}, ::Int64, ::Vararg{Int64,N} where N) at ./abstractarray.jl:1777",
      " [2] top-level scope at In[20]:1",
      " [3] include_string(::Function, ::Module, ::String, ::String) at ./loading.jl:1091"
     ]
    }
   ],
   "source": [
    "\"\"\"\n",
    "Example 3, using write_system/make_system\n",
    "\"\"\"\n",
    "A = [1 0 0 0 0 0;0 1 0 0 0 0;0 0;1 0;0 1;0 0]\n",
    "coeff = [1;1;0;1;-1;0]\n",
    "T = make_system(coeff,A)"
   ]
  },
  {
   "cell_type": "code",
   "execution_count": 42,
   "metadata": {},
   "outputs": [
    {
     "name": "stdout",
     "output_type": "stream",
     "text": [
      "2"
     ]
    },
    {
     "data": {
      "text/plain": [
       "2-element Array{Any,1}:\n",
       " Dict{Any,Any}(\"err\" => 4.808e-16,\"x1\" => 1.03639570141331 + 0.00619038489119192im,\"time\" => 1.0 + 0.0im,\"x4\" => -2.24458038436995 + 0.775072227352325im,\"rco\" => 0.008492,\"multiplicity\" => 1.0,\"x2\" => -0.0381447970785749 - 0.0653100262542169im,\"res\" => 5.837e-16,\"x3\" => 0.726646740724671 - 0.551989879497413im)\n",
       " Dict{Any,Any}(\"err\" => 3.705e-16,\"x1\" => -0.0381447970785749 - 0.0653100262542169im,\"time\" => 1.0 + 0.0im,\"x4\" => 0.726646740724671 - 0.551989879497413im,\"rco\" => 0.009643,\"multiplicity\" => 1.0,\"x2\" => 1.03639570141331 + 0.00619038489119191im,\"x3\" => -2.24458038436995 + 0.775072227352325im)"
      ]
     },
     "execution_count": 42,
     "metadata": {},
     "output_type": "execute_result"
    }
   ],
   "source": [
    "\"\"\"\n",
    "Example 4, using extract_sols\n",
    "\"\"\"\n",
    "char_sols = \"[time = 1.0 + 0*I,\n",
    "  multiplicity = 1,\n",
    "  x1 = 1.03639570141331 + 6.19038489119192E-3*I,\n",
    "  x2 = -3.81447970785749E-2 - 6.53100262542169E-2*I,\n",
    "  x3 = 7.26646740724671E-1 - 5.51989879497413E-1*I,\n",
    "  x4 = -2.24458038436995 + 7.75072227352325E-1*I,\n",
    "  err =  4.808E-16,  rco =  8.492E-03,  res =  5.837E-16],\n",
    " [time = 1.0 + 0*I,\n",
    "  multiplicity = 1,\n",
    "  x1 = -3.81447970785749E-2 - 6.53100262542169E-2*I,\n",
    "  x2 = 1.03639570141331 + 6.19038489119191E-3*I,\n",
    "  x3 = -2.24458038436995 + 7.75072227352325E-1*I,\n",
    "  x4 = 7.26646740724671E-1 - 5.51989879497413E-1*I,\n",
    "  err =  3.705E-16,  rco =  9.643E-03,  res =  6.800E-16]\";\n",
    "extract_sols(char_sols)"
   ]
  },
  {
   "cell_type": "markdown",
   "metadata": {},
   "source": [
    "## x = parse(Float64,\"5\")\n",
    "print(x)"
   ]
  },
  {
   "cell_type": "code",
   "execution_count": 16,
   "metadata": {},
   "outputs": [
    {
     "name": "stdout",
     "output_type": "stream",
     "text": [
      "/tmp/sol63983541470085306381"
     ]
    }
   ],
   "source": [
    "\"\"\"\n",
    "Example 5, using solve_system\n",
    "\"\"\"\n",
    "S = [\"x1**2;\",\"x2*x2;\"]\n",
    "set_phcpath(\"/Users/kv/Desktop/phc\")\n",
    "solve_system(S)"
   ]
  },
  {
   "cell_type": "code",
   "execution_count": 33,
   "metadata": {},
   "outputs": [
    {
     "name": "stdout",
     "output_type": "stream",
     "text": [
      "The file /Users/kv/Desktop/temp/in2288155511451396793 could not be found, please try again...\n",
      "Give a string of characters : Something is wrong with argument file...\n",
      "Welcome to PHC (Polynomial Homotopy Continuation) v2.4.78 30 Jun 2020.\n",
      "Running the blackbox solver, no tasking, in double precision.\n",
      "\n",
      "Is the system on a file ? (y/n/i=info) Oops, an unhandled exception occurred.\n",
      "Seed used in random number generators : 51777.\n",
      "Use the seed number to reproduce the error.\n"
     ]
    },
    {
     "name": "stderr",
     "output_type": "stream",
     "text": [
      "\n",
      "raised ADA.IO_EXCEPTIONS.END_ERROR : a-textio.adb:517\n"
     ]
    },
    {
     "ename": "LoadError",
     "evalue": "failed process: Process(`/Users/kv/Desktop/phc -b /Users/kv/Desktop/temp/in2288155511451396793 /Users/kv/Desktop/temp/2288155511451396793`, ProcessExited(1)) [1]\n",
     "output_type": "error",
     "traceback": [
      "failed process: Process(`/Users/kv/Desktop/phc -b /Users/kv/Desktop/temp/in2288155511451396793 /Users/kv/Desktop/temp/2288155511451396793`, ProcessExited(1)) [1]\n",
      "",
      "Stacktrace:",
      " [1] pipeline_error at ./process.jl:525 [inlined]",
      " [2] run(::Cmd; wait::Bool) at ./process.jl:440",
      " [3] run(::Cmd) at ./process.jl:438",
      " [4] top-level scope at In[33]:5",
      " [5] include_string(::Function, ::Module, ::String, ::String) at ./loading.jl:1091"
     ]
    }
   ],
   "source": [
    "infile = Cmd(`/Users/kv/Desktop/temp/in2288155511451396793`)\n",
    "outfile = Cmd(`/Users/kv/Desktop/temp/2288155511451396793`)\n",
    "phcloc = Cmd(`/Users/kv/Desktop/phc`)\n",
    "str = `$phcloc -b $infile $outfile`\n",
    "run(str)\n"
   ]
  },
  {
   "cell_type": "code",
   "execution_count": 30,
   "metadata": {},
   "outputs": [
    {
     "name": "stdout",
     "output_type": "stream",
     "text": [
      "Welcome to PHC (Polynomial Homotopy Continuation) v2.4.78 30 Jun 2020\n",
      "\n",
      "Running full mode, no tasking.  Note also the following options:\n",
      "  phc -0 : random numbers with fixed seed for repeatable runs    \n",
      "  phc -a : solving polynomial systems equation-by-equation       \n",
      "  phc -b : batch or black-box processing, the blackbox solver    \n",
      "  phc -B : blackbox numerical irreducible decomposition solver   \n",
      "  phc -c : irreducible decomposition for solution components     \n",
      "  phc -d : linear and nonlinear reduction w.r.t. the total degree\n",
      "  phc -e : SAGBI/Pieri/Littlewood-Richardson homotopies          \n",
      "  phc -f : factor pure dimensional solution set into irreducibles\n",
      "  phc -g : checking whether an input system has the right syntax \n",
      "  phc -h : displays help, e.g.: phc -h -b or phc -b -h, or --help\n",
      "  phc -j : path tracking with algorithmic differentiation        \n",
      "  phc -k : realization of dynamic output feedback placing poles  \n",
      "  phc -l : witness set for hypersurface cutting with random line \n",
      "  phc -m : mixed volumes via lift+prune, MixedVol, and DEMiCs    \n",
      "  phc -o : write order of symbols after parsing polynomial system\n",
      "  phc -p : polynomial continuation by a homotopy in one parameter\n",
      "  phc -q : tracking solution paths with incremental read/write   \n",
      "  phc -r : root counting and construction of start systems       \n",
      "  phc -s : equation and variable scaling on system and solutions \n",
      "  phc -t : tasking for tracking paths using multiple threads     \n",
      "  phc -u : power series, Pade approximants for path tracking     \n",
      "  phc -v : verification, refinement and purification of solutions\n",
      "  phc -V : in verbose mode, at some given verbose level          \n",
      "  phc -w : witness set intersection using diagonal homotopies    \n",
      "  phc -x : convert solutions from PHCpack into Python dictionary \n",
      "  phc -y : sample points from an algebraic set, given witness set\n",
      "  phc -z : strip phc output solution lists into Maple format     \n",
      "Options may be combined, e.g.: phc -b -0 or phc -0 -b.\n",
      "To run the blackbox solver with 8 threads, do phc -b -t8.\n",
      "Use -b2 or -b4 for double double or quad double precision.\n",
      "\n",
      "Reading the target polynomial system...\n",
      "Give a string of characters : Oops, an unhandled exception occurred.\n",
      "Seed used in random number generators : 83239.\n",
      "Use the seed number to reproduce the error.\n"
     ]
    },
    {
     "name": "stderr",
     "output_type": "stream",
     "text": [
      "\n",
      "raised ADA.IO_EXCEPTIONS.END_ERROR : a-tigeli.adb:96\n"
     ]
    },
    {
     "ename": "LoadError",
     "evalue": "failed process: Process(`/Users/kv/Desktop/phc`, ProcessExited(1)) [1]\n",
     "output_type": "error",
     "traceback": [
      "failed process: Process(`/Users/kv/Desktop/phc`, ProcessExited(1)) [1]\n",
      "",
      "Stacktrace:",
      " [1] pipeline_error at ./process.jl:525 [inlined]",
      " [2] run(::Cmd; wait::Bool) at ./process.jl:440",
      " [3] run(::Cmd) at ./process.jl:438",
      " [4] top-level scope at In[30]:1",
      " [5] include_string(::Function, ::Module, ::String, ::String) at ./loading.jl:1091"
     ]
    }
   ],
   "source": [
    "run(`/Users/kv/Desktop/phc`)"
   ]
  }
 ],
 "metadata": {
  "kernelspec": {
   "display_name": "Julia 1.5.1",
   "language": "julia",
   "name": "julia-1.5"
  },
  "language_info": {
   "file_extension": ".jl",
   "mimetype": "application/julia",
   "name": "julia",
   "version": "1.5.1"
  }
 },
 "nbformat": 4,
 "nbformat_minor": 2
}
