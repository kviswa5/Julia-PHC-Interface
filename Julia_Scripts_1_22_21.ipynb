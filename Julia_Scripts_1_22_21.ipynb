{
 "cells": [
  {
   "cell_type": "code",
   "execution_count": 1,
   "metadata": {},
   "outputs": [
    {
     "data": {
      "text/plain": [
       "`\u001b[4m/Users/kv/Desktop/phc\u001b[24m`"
      ]
     },
     "execution_count": 1,
     "metadata": {},
     "output_type": "execute_result"
    }
   ],
   "source": [
    "global phcloc = Cmd(`/Users/kv/Desktop/phc`) # executable"
   ]
  },
  {
   "cell_type": "code",
   "execution_count": 2,
   "metadata": {},
   "outputs": [
    {
     "data": {
      "text/plain": [
       "read_system"
      ]
     },
     "execution_count": 2,
     "metadata": {},
     "output_type": "execute_result"
    }
   ],
   "source": [
    "\n",
    "\"\"\"\n",
    "read_system(filename)\n",
    "\n",
    "Input: (1) A filename containing text of polynomials separated by lines\n",
    "       (2) An optional argument indicating the number of variables in the system\n",
    "Output: A string array of polynomials.\n",
    "\"\"\"\n",
    "function read_system(filename; variables = nothing)\n",
    "    count = 0;\n",
    "    polyCount = 0;\n",
    "    polynomial = [\"\"]\n",
    "    success_state = true \n",
    "    \n",
    "    if (typeof(variables) != Int64 || variables < 1)\n",
    "        variables = nothing\n",
    "        println(\"Invalid variable type for optional argument\")\n",
    "    end\n",
    "    ncolon = 0\n",
    "    neq = 0\n",
    "    nvar = 0\n",
    "    for word in eachline(filename)\n",
    "        word = lstrip(word)\n",
    "        word = rstrip(word)\n",
    "        if count == 0\n",
    "            t  = split(word, r\" *\")\n",
    "            neq = parse(Int,t[1])\n",
    "            nvar = neq\n",
    "            if length(t) == 2\n",
    "                nvar = parse(Int,t[2])\n",
    "            end\n",
    "        # Note the first line      \n",
    "        else\n",
    "            ncolon = check_semicolon(word)\n",
    "            if ncolon == 1\n",
    "                push!(polynomial,word)\n",
    "            else\n",
    "                poly_list = split(word,\";\")\n",
    "                for i = 1:length(poly_list)\n",
    "                    word = rstrip(lstrip(poly_list[i]))\n",
    "                    push!(polynomial,word)\n",
    "                end\n",
    "            end\n",
    "        end\n",
    "        count = count + 1\n",
    "    end\n",
    "    \n",
    "    if ncolon != neq\n",
    "        println(\"The number of colons does not match equations\")\n",
    "    end\n",
    "        \n",
    "    \n",
    "    polynomial = setdiff(polynomial, [\"\"])\n",
    "    print(neq)\n",
    "    print(\" polynomials in the given system\")\n",
    "    println(\"\")\n",
    "    if (variables != nothing)\n",
    "        print(variables)\n",
    "        print(\" variables in the given system\")\n",
    "        println(\"\")\n",
    "    end\n",
    "    println(polynomial)\n",
    "    return nvar,polynomial\n",
    "end"
   ]
  },
  {
   "cell_type": "code",
   "execution_count": 3,
   "metadata": {},
   "outputs": [
    {
     "data": {
      "text/plain": [
       "check_semicolon (generic function with 1 method)"
      ]
     },
     "execution_count": 3,
     "metadata": {},
     "output_type": "execute_result"
    }
   ],
   "source": [
    "function check_semicolon(string)\n",
    "    ncolon = 0\n",
    "    for i = 1:length(string)\n",
    "        if string[i] == \";\"\n",
    "            ncolon = ncolon + 1\n",
    "        end\n",
    "    end\n",
    "    return ncolon\n",
    "end"
   ]
  },
  {
   "cell_type": "code",
   "execution_count": 4,
   "metadata": {},
   "outputs": [
    {
     "name": "stdout",
     "output_type": "stream",
     "text": [
      "Invalid variable type for optional argument\n",
      "The number of colons does not match equations\n",
      "2 polynomials in the given system\n",
      "[\"x**2\", \"x-y\"]\n"
     ]
    },
    {
     "data": {
      "text/plain": [
       "(2, [\"x**2\", \"x-y\"])"
      ]
     },
     "execution_count": 4,
     "metadata": {},
     "output_type": "execute_result"
    }
   ],
   "source": [
    "read_system(\"sample.txt\")"
   ]
  },
  {
   "cell_type": "code",
   "execution_count": 5,
   "metadata": {},
   "outputs": [
    {
     "data": {
      "text/plain": [
       "write_system"
      ]
     },
     "execution_count": 5,
     "metadata": {},
     "output_type": "execute_result"
    }
   ],
   "source": [
    "\"\"\"\n",
    "write_system(filename,system)\n",
    "\n",
    "Input: system - A polynomial system (array of strings of polynomials), filename - name of file to write the system\n",
    "\n",
    "Output: The polynomial system written to a file.\n",
    "\"\"\"\n",
    "function write_system(filename,system)\n",
    "    sys_nvar = size(system)[1]\n",
    "    sys_npoly = sys_nvar\n",
    "    f = open(filename, \"w\")\n",
    "    s = \"$sys_npoly\"\n",
    "    write(f,s)\n",
    "    write(f,\"\\n\")\n",
    "    for i in 1:sys_nvar\n",
    "        str = system[i]\n",
    "        write(f,str)\n",
    "        write(f,\"\\n\")\n",
    "    end\n",
    "    close(f)\n",
    "end"
   ]
  },
  {
   "cell_type": "code",
   "execution_count": 19,
   "metadata": {},
   "outputs": [
    {
     "name": "stdout",
     "output_type": "stream",
     "text": [
      "16[\"+x1+x2+0.998250904334\", \"+x1x3+x2x4+0.892749639148\", \"+x1x3**2+x2x4**2+0.160088552022\", \"+x1x3**3+x2x4**3+0.725369971319\"]"
     ]
    }
   ],
   "source": [
    "filename = \"/Users/kv/Desktop/temp/in7769383274871036357\"\n",
    "    A = [1 0 0 0; 0 1 0 0;0 0 0 0;0 0 0 0;1 0 1 0;0 1 0 1;0 0 0 0;\n",
    "              0 0 0 0;1 0 2 0;0 1 0 2; 0 0 0 0;0 0 0 0;1 0 3 0;0 1 0 3;0 0 0 0;0 0 0 0]\n",
    "\n",
    "    coeff = [             1;\n",
    "                1;\n",
    "              9.98250904334731E-01;  \n",
    "             0 ;                                              \n",
    "              1;                                               \n",
    "              1 ;                                              \n",
    "              8.92749639148806E-01;  \n",
    "              0;                                               \n",
    "              1;                                               \n",
    "              1;                                               \n",
    "              1.60088552022675E-01;   \n",
    "              0;                                               \n",
    "              1;                                               \n",
    "              1;                                               \n",
    "              7.25369971319578E-01;  \n",
    "             0]    \n",
    "T = make_system(coeff,A)\n",
    "print(T)\n",
    "filename = \"/Users/kv/Desktop/temp/sinha\"\n",
    "write_system(filename,T)"
   ]
  },
  {
   "cell_type": "code",
   "execution_count": 20,
   "metadata": {},
   "outputs": [
    {
     "ename": "LoadError",
     "evalue": "ArgumentError: argument count does not match specified shape (expected 36, got 20)",
     "output_type": "error",
     "traceback": [
      "ArgumentError: argument count does not match specified shape (expected 36, got 20)",
      "",
      "Stacktrace:",
      " [1] hvcat(::NTuple{6,Int64}, ::Int64, ::Vararg{Int64,N} where N) at ./abstractarray.jl:1777",
      " [2] top-level scope at In[20]:1",
      " [3] include_string(::Function, ::Module, ::String, ::String) at ./loading.jl:1091"
     ]
    }
   ],
   "source": [
    "    A = [1 0 0 0 0 0;0 1 0 0 0 0;0 0;1 0;0 1;0 0]\n",
    "\n",
    "    coeff = [1;1;0;\n",
    "            1;-1;0]\n",
    "T = make_system(coeff,A)"
   ]
  },
  {
   "cell_type": "code",
   "execution_count": 6,
   "metadata": {},
   "outputs": [
    {
     "data": {
      "text/plain": [
       "form_poly (generic function with 1 method)"
      ]
     },
     "execution_count": 6,
     "metadata": {},
     "output_type": "execute_result"
    }
   ],
   "source": [
    "\"\"\"\n",
    "form_poly(n_var,coeff,exponent)\n",
    "\n",
    "Input: the number of variables, An array of coeffs for each polynomial, a 2D array of exponents\n",
    "Preconditions - (1) Entry of coeff and corr. row of exponent matrices correspond to same term. \n",
    "                (2) exponent values are real, coefficients may be complex, given in format complex(a,b) or a+bim\n",
    "                (3) The size of coeff must equal the number of rows of exponent.\n",
    "Output: String representation of the polynomial\n",
    "\"\"\"\n",
    "\n",
    "\n",
    "function form_poly(n_var,coeff,exponent)\n",
    "    variables = []\n",
    "    terms = []\n",
    "    polynomial = \"\"\n",
    "    for i in 1:n_var\n",
    "        b = string(i)\n",
    "        str = \"x\" * b\n",
    "        push!(variables, str)\n",
    "    end\n",
    "    \n",
    "    row_exp = size(exponent)[1]\n",
    "    col_exp = size(exponent)[2]\n",
    "    n_coeffs = size(coeff)[1]\n",
    "    \n",
    "    \n",
    "   # populates the terms list as strings\n",
    "    for i in 1:col_exp\n",
    "        term = \"\";\n",
    "        for j in 1:row_exp\n",
    "            if (exponent[j,i] != 0)\n",
    "                if (exponent[j,i] == 1)\n",
    "                    term = term * \"*\" * variables[j]\n",
    "                else\n",
    "                    term = term * \"*\" * variables[j]\n",
    "                    term = term * \"**\" * string(exponent[j,i])\n",
    "                end\n",
    "            end\n",
    "        end\n",
    "        if (length(term) > 1 && term[1] == '*')\n",
    "            term = term[2:end]\n",
    "        end\n",
    "        push!(terms,term)\n",
    "    end\n",
    "      print(terms)\n",
    "    \n",
    "    # Combines terms with coefficients and adds them to form the polynomial (sentinal case for 1st term)\n",
    "    if (coeff[1] != 0 && coeff[1] != 1 && coeff[1] != -1)\n",
    "        if imag(coeff[i] == 0)\n",
    "            polynomial = polynomial * string(coeff[1]) * terms[1] \n",
    "        else\n",
    "            polynomial = polynomial * '(' * string(coeff[1]) *')'* '*' * terms[1] \n",
    "        end\n",
    "    end\n",
    "    if (coeff[1] == 1)\n",
    "        polynomial = polynomial * terms[1]   \n",
    "    end\n",
    "    \n",
    "    # Appends \"+\" operators between terms\n",
    "    if (n_coeffs > 1)\n",
    "        for i in 2:n_coeffs-1\n",
    "            if (coeff[i] != 0 && coeff[i] != 1 && coeff[i] != -1 && imag(coeff[i])==0)\n",
    "                polynomial = polynomial * \"+\" * string(coeff[i]) * '*' * terms[i] \n",
    "            end\n",
    "            if (imag(coeff[i]) != 0)\n",
    "                polynomial = polynomial * \"+\" * '(' * string(coeff[i]) * ')' * '*' * terms[i] \n",
    "            end\n",
    "            # Does not append a 1/-1 coefficient to terms, unless the term is \"1\"\n",
    "            if (coeff[i] == 1 && terms[i] != \"\")\n",
    "                polynomial = polynomial * \"+\" * terms[i]\n",
    "            elseif (coeff[i] == -1 && terms[i] != \"\")\n",
    "                polynomial = polynomial * \"-\" * terms[i]\n",
    "            elseif (coeff[i] == 1 && terms[i] == \" \")\n",
    "                polynomial =  polynomial * \"\"\n",
    "            elseif (coeff[i] == -1 && terms[i] == \" \")\n",
    "                polynomial =  polynomial * \"\"\n",
    "            end\n",
    "        print(terms)\n",
    "        end\n",
    "    end   \n",
    "    return polynomial\n",
    "end"
   ]
  },
  {
   "cell_type": "code",
   "execution_count": 7,
   "metadata": {},
   "outputs": [
    {
     "data": {
      "text/plain": [
       "make_system (generic function with 1 method)"
      ]
     },
     "execution_count": 7,
     "metadata": {},
     "output_type": "execute_result"
    }
   ],
   "source": [
    "\"\"\"\n",
    "make_system(tableau)\n",
    "\n",
    "Takes an array representing a polynomial system in tableau format\n",
    "Preconditions - (1) The system is assumed to be square\n",
    "                (2) exponent values are real, coefficients may be complex, given in format complex(a,b) or a+bim\n",
    "Arguments - (1) Coeff, contains a complex array of coefficients\n",
    "            (2) tableau, contains an integer array of exponents associated with variables\n",
    "            (3) variables, contains a string array of variables, otherwise variables default to x1,x2,....\n",
    "\n",
    "Domain Exceptions - (1) Length of coeff does not match the number of rows of the tableau\n",
    "                    (2) The optional variable array is not of type String\n",
    "                    (3) The optional variable array size does not match the col size of tableau\n",
    "\n",
    "Outputs a string array of polynomials as represented by the tableau system\n",
    "\"\"\"\n",
    "\n",
    "\n",
    "# im - should be converted to i\n",
    "# + - (coefficients are negative do not insert + -)\n",
    "# Trailing brackets issue\n",
    "\n",
    "function make_system(coeff, tableau; variables = nothing)::Array{String}\n",
    "    n_row = size(tableau)[1]\n",
    "    n_col = size(tableau)[2]\n",
    "    p_array = String[]\n",
    "    variables = String[]\n",
    "    n_poly = 0\n",
    "    n_var = n_col;\n",
    "    \n",
    "    if (n_row != length(coeff))\n",
    "        println(\"Coeff length does not equal the number of tableau rows!\")\n",
    "        throw(DomainError())\n",
    "    end\n",
    "    \n",
    "    if (length(variables) > 0 && typeof(variables) != String)\n",
    "        println(\"Variable array must contain strings only\")\n",
    "        throw(DomainError())\n",
    "    end     \n",
    "    \n",
    "    \n",
    "    if (length(variables) > 0 && length(variables) != n_var)\n",
    "        println(\"Variable array dimensions do not match tableau column size\")\n",
    "        throw(DomainError())\n",
    "    end \n",
    "    \n",
    "    # Count the number of polynomials in the tableau.\n",
    "    for i in 1:n_row\n",
    "        if tableau[i,1] == 0\n",
    "            n_poly = n_poly + 1\n",
    "        end\n",
    "    end\n",
    "    \n",
    "    \n",
    "    \n",
    "    # If optional variables are not supplied\n",
    "    if (length(variables) == 0)\n",
    "        for i in 1:n_var\n",
    "            b = string(i)\n",
    "            str = \"x\" * b\n",
    "            push!(variables, str)\n",
    "            str = \"\"\n",
    "        end\n",
    "    end\n",
    "    \n",
    "    poly = \"\"\n",
    "    print(n_row)\n",
    "        \n",
    "    for i in 1:n_row\n",
    "\n",
    "        if (coeff[i] != 0)\n",
    "            sum = 0 # tracks whether a term has variables or not \n",
    "            for j in 1:n_var\n",
    "                # append coefficient here if nonzero or non-unity\n",
    "                if (j == 1)\n",
    "                    poly = poly * \"+\"\n",
    "                    if (coeff[i] != 0 && coeff[i] != 1)\n",
    "                        if (imag(coeff[i]) == 0)\n",
    "                            if (real(coeff[i]) > 0)\n",
    "                                poly = poly * string(real(coeff[i]))\n",
    "                            else\n",
    "                                poly = poly * \"(\" * string(real(coeff[i])) * \")\"\n",
    "                            end \n",
    "                            \n",
    "                        else\n",
    "                            poly = poly * \"(\" * string((coeff[i])) * \")\"\n",
    "                            replace(poly, \"im\" => \"I\", count = 1)\n",
    "                        end\n",
    "                    end\n",
    "                end\n",
    "                \n",
    "                \n",
    "                \n",
    "                # append variables and exponents\n",
    "                if (tableau[i,j] == 1)\n",
    "                    if (coeff[i] != 1)\n",
    "                        poly = poly * \"*\" * variables[j]\n",
    "                    else\n",
    "                        poly = poly * variables[j]\n",
    "                    end\n",
    "                elseif (tableau[i,j] > 1)\n",
    "                    if (coeff[i] != 1)\n",
    "                        poly = poly * \"*\" * variables[j] * \"**\" * string(tableau[i,j])\n",
    "                    else\n",
    "                        poly = poly * variables[j] * \"**\" * string(tableau[i,j])\n",
    "                    end\n",
    "                end\n",
    "                \n",
    "                \n",
    "                sum = sum + tableau[i,j] #nonzero sum means has variables\n",
    "            end\n",
    "            \"\"\"\n",
    "            if (i < n_row)\n",
    "                if (length(poly) > 0 && poly[end] != \" \" && poly[1] != \"-\")\n",
    "                        poly = poly[1:end-1] * \"+\"\n",
    "                end\n",
    "            else\n",
    "                poly = poly[1:end-1]\n",
    "            end\n",
    "            \"\"\"\n",
    "                \n",
    "            \n",
    "            #append final coefficient\n",
    "            \n",
    "            if (sum == 0)\n",
    "                poly = poly[1:end-3];\n",
    "            end\n",
    "        else\n",
    "            push!(p_array,poly)\n",
    "            poly = \"\"\n",
    "        end     \n",
    "    end\n",
    "    \n",
    "    return p_array\n",
    "end\n",
    "        \n",
    "    \n",
    "    "
   ]
  },
  {
   "cell_type": "code",
   "execution_count": 8,
   "metadata": {},
   "outputs": [
    {
     "data": {
      "text/plain": [
       "strToCpx (generic function with 1 method)"
      ]
     },
     "execution_count": 8,
     "metadata": {},
     "output_type": "execute_result"
    }
   ],
   "source": [
    "\"\"\"\n",
    "extract_sols(char_sols)\n",
    "\n",
    "Take a string representation of the solution system\n",
    "Preconditions - (1) The solutions are separated by \"[]\", as formatted by phc\n",
    "                (2) Within solutions, attributes are separated by \",\"\n",
    "Arguments - (1) char_sols - string output representation of solution system\n",
    "\n",
    "Outputs a list of dictionaries that contain the solution systems\n",
    "\"\"\"\n",
    "function extract_sols(char_sols)\n",
    "    sol_list = split(char_sols ,r\"[[]\")\n",
    "    deleteat!(sol_list, 1)\n",
    "    dict_list = []\n",
    "    print(length(sol_list))\n",
    "    for i in 1:length(sol_list)\n",
    "        dict = Dict()\n",
    "        attr_list = split(sol_list[i],r\"[,]\")\n",
    "        deleteat!(attr_list, length(attr_list)) # deletes last element\n",
    "        for j in 1:length(attr_list)\n",
    "            indiv_list = split(attr_list[j],r\"[=]\")\n",
    "            indiv_list[1] = replace(indiv_list[1],\"\\n\"=>\"\")\n",
    "            indiv_list[1] = lstrip(indiv_list[1])\n",
    "            indiv_list[1] = rstrip(indiv_list[1])\n",
    "            if (length(indiv_list) > 1)\n",
    "                indiv_list[2] = replace(indiv_list[2],\"\\n\"=>\"\")\n",
    "                indiv_list[2] = lstrip(indiv_list[2])\n",
    "                indiv_list[2] = rstrip(indiv_list[2])\n",
    "                cpx_num = replace(indiv_list[2],\"*I\"=>\"im\")\n",
    "                cpx_result = strToCpx(cpx_num)\n",
    "                push!(dict, indiv_list[1] => cpx_result)\n",
    "            end\n",
    "            \n",
    "            \n",
    "        end\n",
    "    sort(collect(dict), by=x->x[1])\n",
    "    push!(dict_list, dict)\n",
    "    end\n",
    "return dict_list\n",
    "end\n",
    "\n",
    "\"\"\"\n",
    "strToCpx(str)\n",
    "Take a string and converts it to Complex format\n",
    "Input: String of the form a+bI,a-bI\n",
    "Outputs a complex double format, unless the string does not contain an imaginary component\n",
    "\"\"\"\n",
    "#Coverts a string to a complex double\n",
    "function strToCpx(str)\n",
    "    if (occursin(\"]\",str) && length(str) > 1)\n",
    "        str = str[1:end-1]\n",
    "    end\n",
    "    if (occursin(\"im\", str))\n",
    "        cpx = parse(Complex{Float64}, str)\n",
    "    else\n",
    "        cpx = parse(Float64,str)\n",
    "    end\n",
    "    return cpx\n",
    "end\n",
    "    "
   ]
  },
  {
   "cell_type": "code",
   "execution_count": 42,
   "metadata": {},
   "outputs": [
    {
     "name": "stdout",
     "output_type": "stream",
     "text": [
      "2"
     ]
    },
    {
     "data": {
      "text/plain": [
       "2-element Array{Any,1}:\n",
       " Dict{Any,Any}(\"err\" => 4.808e-16,\"x1\" => 1.03639570141331 + 0.00619038489119192im,\"time\" => 1.0 + 0.0im,\"x4\" => -2.24458038436995 + 0.775072227352325im,\"rco\" => 0.008492,\"multiplicity\" => 1.0,\"x2\" => -0.0381447970785749 - 0.0653100262542169im,\"res\" => 5.837e-16,\"x3\" => 0.726646740724671 - 0.551989879497413im)\n",
       " Dict{Any,Any}(\"err\" => 3.705e-16,\"x1\" => -0.0381447970785749 - 0.0653100262542169im,\"time\" => 1.0 + 0.0im,\"x4\" => 0.726646740724671 - 0.551989879497413im,\"rco\" => 0.009643,\"multiplicity\" => 1.0,\"x2\" => 1.03639570141331 + 0.00619038489119191im,\"x3\" => -2.24458038436995 + 0.775072227352325im)"
      ]
     },
     "execution_count": 42,
     "metadata": {},
     "output_type": "execute_result"
    }
   ],
   "source": [
    "char_sols = \"[time = 1.0 + 0*I,\n",
    "  multiplicity = 1,\n",
    "  x1 = 1.03639570141331 + 6.19038489119192E-3*I,\n",
    "  x2 = -3.81447970785749E-2 - 6.53100262542169E-2*I,\n",
    "  x3 = 7.26646740724671E-1 - 5.51989879497413E-1*I,\n",
    "  x4 = -2.24458038436995 + 7.75072227352325E-1*I,\n",
    "  err =  4.808E-16,  rco =  8.492E-03,  res =  5.837E-16],\n",
    " [time = 1.0 + 0*I,\n",
    "  multiplicity = 1,\n",
    "  x1 = -3.81447970785749E-2 - 6.53100262542169E-2*I,\n",
    "  x2 = 1.03639570141331 + 6.19038489119191E-3*I,\n",
    "  x3 = -2.24458038436995 + 7.75072227352325E-1*I,\n",
    "  x4 = 7.26646740724671E-1 - 5.51989879497413E-1*I,\n",
    "  err =  3.705E-16,  rco =  9.643E-03,  res =  6.800E-16]\";\n",
    "extract_sols(char_sols)"
   ]
  },
  {
   "cell_type": "markdown",
   "metadata": {},
   "source": [
    "## x = parse(Float64,\"5\")\n",
    "print(x)"
   ]
  },
  {
   "cell_type": "code",
   "execution_count": 23,
   "metadata": {},
   "outputs": [
    {
     "name": "stdout",
     "output_type": "stream",
     "text": [
      "Any[\"x1*x3**2\", \"x2*x4**2\", \"x1**2*x2**2\", \"\"]Any[\"x1*x3**2\", \"x2*x4**2\", \"x1**2*x2**2\", \"\"]Any[\"x1*x3**2\", \"x2*x4**2\", \"x1**2*x2**2\", \"\"]163"
     ]
    },
    {
     "data": {
      "text/plain": [
       "3-element Array{Any,1}:\n",
       " Dict{Any,Any}()\n",
       " Dict{Any,Any}(\"err\" => 1.324e-16,\"x1\" => 0.120279913210395 + 3.65755965210328e-99im,\"time\" => 1.0 + 0.0im,\"x4\" => 0.632092263402443 - 3.65755965210328e-99im,\"rco\" => 0.03725,\"multiplicity\" => 1.0,\"x2\" => -1.11853081754512 - 5.48633947815492e-99im,\"res\" => 2.498e-16,\"x3\" => -1.544189366652 + 2.19453579126197e-98im)\n",
       " Dict{Any,Any}(\"err\" => 1.264e-16,\"x1\" => -1.11853081754512 - 2.28597478256455e-99im,\"time\" => 1.0 + 0.0im,\"x4\" => -1.544189366652 + 7.31511930420656e-99im,\"rco\" => 0.03725,\"multiplicity\" => 1.0,\"x2\" => 0.120279913210395 + 1.82877982605164e-99im,\"x3\" => 0.632092263402443 - 7.14367119551422e-100im)"
      ]
     },
     "execution_count": 23,
     "metadata": {},
     "output_type": "execute_result"
    }
   ],
   "source": [
    "function main()\n",
    "    # Test for Read/Write\n",
    "    #read_system(\"Ex1.txt\",variables = \"fi\")\n",
    "    #sys = read_system(\"Ex1.txt\")\n",
    "    #print(sys[1])\n",
    "    #write_system(\"Ex1-ou.txt\",sys)\n",
    "    \n",
    "    \n",
    "    # Test cases for form_poly(n_var,coeff,exponent)\n",
    "    exp = [1 0 2 0;0 1 2 0;2 0 0 0;0 2 0 0]\n",
    "    coeff = [1;1;complex(1,1);1]\n",
    "    #size(exp)[1]\n",
    "    poly = form_poly(4,coeff,exp)\n",
    "    #print(poly)\n",
    "    \n",
    "    # Test for Make System\n",
    "    A = [1 0 0 0; 0 1 0 0;0 0 0 0;0 0 0 0;1 0 1 0;0 1 0 1;0 0 0 0;\n",
    "              0 0 0 0;1 0 2 0;0 1 0 2; 0 0 0 0;0 0 0 0;1 0 3 0;0 1 0 3;0 0 0 0;0 0 0 0]\n",
    "\n",
    "    coeff = [             2;\n",
    "                1+ im;\n",
    "              -9.98250904334731E-01 + 5.91196413630250E-02*im;  \n",
    "             0 ;                                              \n",
    "              1;                                               \n",
    "              1 ;                                              \n",
    "              -8.92749639148806E-01 + 4.50553084330444E-01*im;  \n",
    "              0;                                               \n",
    "              1;                                               \n",
    "              1;                                               \n",
    "              1.60088552022675E-01 + 9.87102657027770E-01*im;   \n",
    "              0;                                               \n",
    "              1;                                               \n",
    "              1;                                               \n",
    "              -7.25369971319578E-01 + 6.88359211972815E-01*im;  \n",
    "             0]      \n",
    "    \n",
    "    make_system(coeff,A)\n",
    "    \n",
    "    \n",
    "    \n",
    "char_sols = \"[[time = 1.0 + 0*I,\n",
    "  multiplicity = 1,\n",
    "  x1 = 1.20279913210395E-1 + 3.65755965210328E-99*I,\n",
    "  x2 = -1.11853081754512 - 5.48633947815492E-99*I,\n",
    "  x3 = -1.544189366652 + 2.19453579126197E-98*I,\n",
    "  x4 = 6.32092263402443E-1 - 3.65755965210328E-99*I,\n",
    "  err =  1.324E-16,  rco =  3.725E-02,  res =  2.498E-16],\n",
    " [time = 1.0 + 0*I,\n",
    "  multiplicity = 1,\n",
    "  x1 = -1.11853081754512 - 2.28597478256455E-99*I,\n",
    "  x2 = 1.20279913210395E-1 + 1.82877982605164E-99*I,\n",
    "  x3 = 6.32092263402443E-1 - 7.14367119551422E-100*I,\n",
    "  x4 = -1.544189366652 + 7.31511930420656E-99*I,\n",
    "  err =  1.264E-16,  rco =  3.725E-02,  res =  1.665E-16]]\"\n",
    "    extract_sols(char_sols)\n",
    "\n",
    "end\n",
    "main()"
   ]
  },
  {
   "cell_type": "code",
   "execution_count": 9,
   "metadata": {},
   "outputs": [
    {
     "data": {
      "text/plain": [
       "set_phcpath (generic function with 2 methods)"
      ]
     },
     "execution_count": 9,
     "metadata": {},
     "output_type": "execute_result"
    }
   ],
   "source": [
    "function set_phcpath(pathstr = nothing)\n",
    "    global phctemp\n",
    "    phcloc = \"/Users/kv/Desktop/phc\"\n",
    "    phctemp = \"/tmp/\"\n",
    "    \n",
    "    #mkdir(phctemp)\n",
    "\n",
    "end\n"
   ]
  },
  {
   "cell_type": "code",
   "execution_count": 10,
   "metadata": {},
   "outputs": [
    {
     "data": {
      "text/plain": [
       "solve_system (generic function with 1 method)"
      ]
     },
     "execution_count": 10,
     "metadata": {},
     "output_type": "execute_result"
    }
   ],
   "source": [
    "using Dates\n",
    "using Random\n",
    "\n",
    "function solve_system(T)\n",
    "\n",
    "    global phcloc = \"/Users/kv/Desktop/phc\"#location of the phc executable\n",
    "    global phctemp\n",
    "    \n",
    "    # Uses time to generate a random string\n",
    "    moment = Dates.now()\n",
    "    seed = Dates.value(moment)\n",
    "    rng = MersenneTwister(seed)\n",
    "    sr = string(abs(round(rand(rng, Int64)))) \n",
    "    print(sr)\n",
    "    verbose=false;\n",
    "    \n",
    "    if(verbose) \n",
    "         print(\"solving polynomial system ... please wait...\\n\")\n",
    "    end\n",
    "    infile = phctemp * \"in\" * sr\n",
    "    outfile = phctemp * \"out\" * sr\n",
    "    solfile = phctemp * \"sol\" * sr\n",
    "    # write system\n",
    "    #print(solfile)\n",
    "    write_system(infile, T)\n",
    "    #close(infile)\n",
    "    # call black box solver\n",
    "    cmd_b = `$phcloc -b $infile $outfile`\n",
    "    cmd_z = `$phcloc -z $infile $solfile`\n",
    "    run(cmd_b)\n",
    "    run(cmd_z)\n",
    "    # read solutions in\n",
    "    solf_id = open(solfile, \"r\")\n",
    "    print(solfile)\n",
    "    sols = string(read(solf_id))\n",
    "    close(solf_id)\n",
    "    #char_sols = char(sols) # 1*m string array\n",
    "    # extract individual solution\n",
    "    solutions = extract_sols(sols)\n",
    "    \n",
    "    # print out solutions info.\n",
    "    if(verbose) \n",
    "        print(\"Blackbox solver found %d solutions.\\n\", length(solutions,2))\n",
    "        for k=1:length(solutions,2)\n",
    "           print(solutions(k))\n",
    "        end\n",
    "    end\n",
    "    \n",
    "    # remove all intermediate files\n",
    "  \n",
    "end"
   ]
  },
  {
   "cell_type": "code",
   "execution_count": 16,
   "metadata": {},
   "outputs": [
    {
     "name": "stdout",
     "output_type": "stream",
     "text": [
      "/tmp/sol63983541470085306381"
     ]
    }
   ],
   "source": [
    "\n",
    "S = [\"x1**2;\",\"x2*x2;\"]\n",
    "set_phcpath(\"/Users/kv/Desktop/phc\")\n",
    "solve_system(S)"
   ]
  },
  {
   "cell_type": "code",
   "execution_count": 33,
   "metadata": {},
   "outputs": [
    {
     "name": "stdout",
     "output_type": "stream",
     "text": [
      "The file /Users/kv/Desktop/temp/in2288155511451396793 could not be found, please try again...\n",
      "Give a string of characters : Something is wrong with argument file...\n",
      "Welcome to PHC (Polynomial Homotopy Continuation) v2.4.78 30 Jun 2020.\n",
      "Running the blackbox solver, no tasking, in double precision.\n",
      "\n",
      "Is the system on a file ? (y/n/i=info) Oops, an unhandled exception occurred.\n",
      "Seed used in random number generators : 51777.\n",
      "Use the seed number to reproduce the error.\n"
     ]
    },
    {
     "name": "stderr",
     "output_type": "stream",
     "text": [
      "\n",
      "raised ADA.IO_EXCEPTIONS.END_ERROR : a-textio.adb:517\n"
     ]
    },
    {
     "ename": "LoadError",
     "evalue": "failed process: Process(`/Users/kv/Desktop/phc -b /Users/kv/Desktop/temp/in2288155511451396793 /Users/kv/Desktop/temp/2288155511451396793`, ProcessExited(1)) [1]\n",
     "output_type": "error",
     "traceback": [
      "failed process: Process(`/Users/kv/Desktop/phc -b /Users/kv/Desktop/temp/in2288155511451396793 /Users/kv/Desktop/temp/2288155511451396793`, ProcessExited(1)) [1]\n",
      "",
      "Stacktrace:",
      " [1] pipeline_error at ./process.jl:525 [inlined]",
      " [2] run(::Cmd; wait::Bool) at ./process.jl:440",
      " [3] run(::Cmd) at ./process.jl:438",
      " [4] top-level scope at In[33]:5",
      " [5] include_string(::Function, ::Module, ::String, ::String) at ./loading.jl:1091"
     ]
    }
   ],
   "source": [
    "infile = Cmd(`/Users/kv/Desktop/temp/in2288155511451396793`)\n",
    "outfile = Cmd(`/Users/kv/Desktop/temp/2288155511451396793`)\n",
    "phcloc = Cmd(`/Users/kv/Desktop/phc`)\n",
    "str = `$phcloc -b $infile $outfile`\n",
    "run(str)\n"
   ]
  },
  {
   "cell_type": "code",
   "execution_count": 30,
   "metadata": {},
   "outputs": [
    {
     "name": "stdout",
     "output_type": "stream",
     "text": [
      "Welcome to PHC (Polynomial Homotopy Continuation) v2.4.78 30 Jun 2020\n",
      "\n",
      "Running full mode, no tasking.  Note also the following options:\n",
      "  phc -0 : random numbers with fixed seed for repeatable runs    \n",
      "  phc -a : solving polynomial systems equation-by-equation       \n",
      "  phc -b : batch or black-box processing, the blackbox solver    \n",
      "  phc -B : blackbox numerical irreducible decomposition solver   \n",
      "  phc -c : irreducible decomposition for solution components     \n",
      "  phc -d : linear and nonlinear reduction w.r.t. the total degree\n",
      "  phc -e : SAGBI/Pieri/Littlewood-Richardson homotopies          \n",
      "  phc -f : factor pure dimensional solution set into irreducibles\n",
      "  phc -g : checking whether an input system has the right syntax \n",
      "  phc -h : displays help, e.g.: phc -h -b or phc -b -h, or --help\n",
      "  phc -j : path tracking with algorithmic differentiation        \n",
      "  phc -k : realization of dynamic output feedback placing poles  \n",
      "  phc -l : witness set for hypersurface cutting with random line \n",
      "  phc -m : mixed volumes via lift+prune, MixedVol, and DEMiCs    \n",
      "  phc -o : write order of symbols after parsing polynomial system\n",
      "  phc -p : polynomial continuation by a homotopy in one parameter\n",
      "  phc -q : tracking solution paths with incremental read/write   \n",
      "  phc -r : root counting and construction of start systems       \n",
      "  phc -s : equation and variable scaling on system and solutions \n",
      "  phc -t : tasking for tracking paths using multiple threads     \n",
      "  phc -u : power series, Pade approximants for path tracking     \n",
      "  phc -v : verification, refinement and purification of solutions\n",
      "  phc -V : in verbose mode, at some given verbose level          \n",
      "  phc -w : witness set intersection using diagonal homotopies    \n",
      "  phc -x : convert solutions from PHCpack into Python dictionary \n",
      "  phc -y : sample points from an algebraic set, given witness set\n",
      "  phc -z : strip phc output solution lists into Maple format     \n",
      "Options may be combined, e.g.: phc -b -0 or phc -0 -b.\n",
      "To run the blackbox solver with 8 threads, do phc -b -t8.\n",
      "Use -b2 or -b4 for double double or quad double precision.\n",
      "\n",
      "Reading the target polynomial system...\n",
      "Give a string of characters : Oops, an unhandled exception occurred.\n",
      "Seed used in random number generators : 83239.\n",
      "Use the seed number to reproduce the error.\n"
     ]
    },
    {
     "name": "stderr",
     "output_type": "stream",
     "text": [
      "\n",
      "raised ADA.IO_EXCEPTIONS.END_ERROR : a-tigeli.adb:96\n"
     ]
    },
    {
     "ename": "LoadError",
     "evalue": "failed process: Process(`/Users/kv/Desktop/phc`, ProcessExited(1)) [1]\n",
     "output_type": "error",
     "traceback": [
      "failed process: Process(`/Users/kv/Desktop/phc`, ProcessExited(1)) [1]\n",
      "",
      "Stacktrace:",
      " [1] pipeline_error at ./process.jl:525 [inlined]",
      " [2] run(::Cmd; wait::Bool) at ./process.jl:440",
      " [3] run(::Cmd) at ./process.jl:438",
      " [4] top-level scope at In[30]:1",
      " [5] include_string(::Function, ::Module, ::String, ::String) at ./loading.jl:1091"
     ]
    }
   ],
   "source": [
    "run(`/Users/kv/Desktop/phc`)"
   ]
  },
  {
   "cell_type": "code",
   "execution_count": 60,
   "metadata": {},
   "outputs": [
    {
     "ename": "LoadError",
     "evalue": "BoundsError: attempt to access 1-element Array{SubString{String},1} at index [2]",
     "output_type": "error",
     "traceback": [
      "BoundsError: attempt to access 1-element Array{SubString{String},1} at index [2]",
      "",
      "Stacktrace:",
      " [1] getindex(::Array{SubString{String},1}, ::Int64) at ./array.jl:809",
      " [2] top-level scope at In[60]:2",
      " [3] include_string(::Function, ::Module, ::String, ::String) at ./loading.jl:1091"
     ]
    }
   ],
   "source": [
    "Q = split(\"x\",r\"[=]\")\n",
    "Q[2]"
   ]
  },
  {
   "cell_type": "code",
   "execution_count": 80,
   "metadata": {},
   "outputs": [
    {
     "data": {
      "text/plain": [
       "2"
      ]
     },
     "execution_count": 80,
     "metadata": {},
     "output_type": "execute_result"
    }
   ],
   "source": [
    "sol_list = split(\"[a,b,c]\" ,r\"[[]\")\n",
    "length(sol_list)"
   ]
  },
  {
   "cell_type": "code",
   "execution_count": 58,
   "metadata": {},
   "outputs": [
    {
     "data": {
      "text/plain": [
       "2"
      ]
     },
     "execution_count": 58,
     "metadata": {},
     "output_type": "execute_result"
    }
   ],
   "source": [
    "size([1,2])[1]"
   ]
  },
  {
   "cell_type": "code",
   "execution_count": 23,
   "metadata": {},
   "outputs": [
    {
     "name": "stdout",
     "output_type": "stream",
     "text": [
      "5\n",
      "2"
     ]
    }
   ],
   "source": [
    "string = \"5   2\"\n",
    "t  = split(string, r\" *\")\n",
    "neq = parse(Int,t[1])\n",
    "nvar = neq\n",
    "if length(t) == 2\n",
    "    nvar = parse(Int,t[2])\n",
    "end\n",
    "    \n",
    "print(neq)\n",
    "print(\"\\n\")\n",
    "print(nvar)"
   ]
  },
  {
   "cell_type": "code",
   "execution_count": 35,
   "metadata": {},
   "outputs": [
    {
     "data": {
      "text/plain": [
       "';': ASCII/Unicode U+003B (category Po: Punctuation, other)"
      ]
     },
     "execution_count": 35,
     "metadata": {},
     "output_type": "execute_result"
    }
   ],
   "source": [
    "string = \"3 2 ;\"\n",
    "string[end]"
   ]
  },
  {
   "cell_type": "code",
   "execution_count": 89,
   "metadata": {},
   "outputs": [
    {
     "data": {
      "text/plain": [
       "3-element Array{SubString{String},1}:\n",
       " \"Geeks\"\n",
       " \"for\"\n",
       " \"Geeks\""
      ]
     },
     "execution_count": 89,
     "metadata": {},
     "output_type": "execute_result"
    }
   ],
   "source": [
    "q = split(\"Geeks, for, Geeks\", \", \")"
   ]
  },
  {
   "cell_type": "code",
   "execution_count": 108,
   "metadata": {},
   "outputs": [
    {
     "data": {
      "text/plain": [
       "1-element Array{SubString{String},1}:\n",
       " \"5\""
      ]
     },
     "execution_count": 108,
     "metadata": {},
     "output_type": "execute_result"
    }
   ],
   "source": [
    "word = \"5\"\n",
    "\n",
    "t  = split(\"5\", r\" *\")"
   ]
  },
  {
   "cell_type": "code",
   "execution_count": null,
   "metadata": {},
   "outputs": [],
   "source": []
  }
 ],
 "metadata": {
  "kernelspec": {
   "display_name": "Julia 1.5.1",
   "language": "julia",
   "name": "julia-1.5"
  },
  "language_info": {
   "file_extension": ".jl",
   "mimetype": "application/julia",
   "name": "julia",
   "version": "1.5.1"
  }
 },
 "nbformat": 4,
 "nbformat_minor": 2
}
